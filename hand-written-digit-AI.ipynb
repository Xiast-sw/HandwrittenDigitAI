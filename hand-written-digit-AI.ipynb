{
 "cells": [
  {
   "cell_type": "markdown",
   "id": "b70c09d2-aaa6-4c2d-8df2-24a3251fc5be",
   "metadata": {},
   "source": [
    "### Bu proje, MNIST veri seti kullanılarak el yazısı rakamları tanımak için bir yapay zeka modelini eğitir."
   ]
  },
  {
   "cell_type": "code",
   "execution_count": 4,
   "id": "fd47e7e7-86ba-41be-8fc5-09d1e74dc2aa",
   "metadata": {},
   "outputs": [],
   "source": [
    "import pandas as pd\n",
    "from matplotlib import pyplot as plt\n",
    "from sklearn.preprocessing import StandardScaler\n",
    "from sklearn.decomposition import PCA\n",
    "from sklearn.datasets import fetch_openml\n",
    "from sklearn.linear_model import LogisticRegression\n",
    "from sklearn.model_selection import train_test_split\n",
    "\n",
    "mnist = fetch_openml('mnist_784')"
   ]
  },
  {
   "cell_type": "code",
   "execution_count": 8,
   "id": "86ff8bfd-43eb-446f-bb52-04b8bc3a4699",
   "metadata": {},
   "outputs": [
    {
     "data": {
      "text/plain": [
       "(70000, 784)"
      ]
     },
     "execution_count": 8,
     "metadata": {},
     "output_type": "execute_result"
    }
   ],
   "source": [
    "# 70000 satır 784 sütun olması lazım\n",
    "mnist.data.shape"
   ]
  },
  {
   "cell_type": "code",
   "execution_count": 22,
   "id": "69065a74-1f59-4708-bae6-aa226f21c2d1",
   "metadata": {},
   "outputs": [],
   "source": [
    "# Mniset veriseti içerisindeki rakamları gösteren fonksiyon\n",
    "def showimage(dframe, index):    \n",
    "    some_digit = dframe.to_numpy()[index]\n",
    "    some_digit_image = some_digit.reshape(28,28)\n",
    "\n",
    "    plt.imshow(some_digit_image,cmap=\"binary\")\n",
    "    plt.axis(\"off\")\n",
    "    plt.show()"
   ]
  },
  {
   "cell_type": "code",
   "execution_count": 30,
   "id": "c812e092-dfcb-45f2-a6dc-c66fe55d1060",
   "metadata": {},
   "outputs": [
    {
     "data": {
      "image/png": "[encoded data removed]",
      "text/plain": [
       "<Figure size 640x480 with 1 Axes>"
      ]
     },
     "metadata": {},
     "output_type": "display_data"
    }
   ],
   "source": [
    "# 10000. fotoğrafa bakalım\n",
    "showimage(mnist.data, 9999)"
   ]
  },
  {
   "cell_type": "code",
   "execution_count": 32,
   "id": "ca886ea6-4680-4f52-a839-b3a0c40a38b1",
   "metadata": {},
   "outputs": [],
   "source": [
    "# test ve train oranı 1/7 ve 6/7\n",
    "train_img, test_img, train_lbl, test_lbl = train_test_split( mnist.data, mnist.target, test_size=1/7.0, random_state=0)"
   ]
  },
  {
   "cell_type": "code",
   "execution_count": 34,
   "id": "1574ad90-d252-4cca-8d79-cb1e1cb346b8",
   "metadata": {},
   "outputs": [],
   "source": [
    "# train_img kopyalıyoruz değiştireceğimiz için\n",
    "test_img_copy = test_img.copy()"
   ]
  },
  {
   "cell_type": "code",
   "execution_count": 38,
   "id": "ddd66fe2-7f95-4a05-aaec-5dddc5949721",
   "metadata": {},
   "outputs": [
    {
     "data": {
      "image/png": "[encoded data removed]",
      "text/plain": [
       "<Figure size 640x480 with 1 Axes>"
      ]
     },
     "metadata": {},
     "output_type": "display_data"
    }
   ],
   "source": [
    "showimage(test_img_copy, 15)"
   ]
  },
  {
   "cell_type": "code",
   "execution_count": 42,
   "id": "4b7506e4-957c-49dc-a80e-ca73a676e6ee",
   "metadata": {},
   "outputs": [],
   "source": [
    "# Verileri scale ediyorum\n",
    "# Veriler scale edilmezse PCA hatalı sonuçlar verebilir\n",
    "\n",
    "scaler = StandardScaler()\n",
    "\n",
    "# Scaler'ı sadece trainin set üzerinde fit etmemiz yeterli\n",
    "scaler.fit(train_img)\n",
    "\n",
    "# Transform işlemini hem training sete hem de test sete yapmamız gerekiyor\n",
    "train_img = scaler.transform(train_img)\n",
    "test_img = scaler.transform(test_img)"
   ]
  },
  {
   "cell_type": "code",
   "execution_count": 44,
   "id": "f879136a-9236-4166-9cc7-b666f9e6daab",
   "metadata": {},
   "outputs": [],
   "source": [
    "# PCA uyguluyorum\n",
    "# Variance'nin %93 oranında korunmasını istediğimi belirtiyorum\n",
    "pca = PCA(.93)"
   ]
  },
  {
   "cell_type": "code",
   "execution_count": null,
   "id": "71bc1a17-99ce-4064-b72b-f9e1edd6abc8",
   "metadata": {},
   "outputs": [],
   "source": []
  }
 ],
 "metadata": {
  "kernelspec": {
   "display_name": "Python 3 (ipykernel)",
   "language": "python",
   "name": "python3"
  },
  "language_info": {
   "codemirror_mode": {
    "name": "ipython",
    "version": 3
   },
   "file_extension": ".py",
   "mimetype": "text/x-python",
   "name": "python",
   "nbconvert_exporter": "python",
   "pygments_lexer": "ipython3",
   "version": "3.12.4"
  }
 },
 "nbformat": 4,
 "nbformat_minor": 5
}
